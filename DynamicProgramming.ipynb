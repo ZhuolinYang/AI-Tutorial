{
 "cells": [
  {
   "cell_type": "markdown",
   "metadata": {},
   "source": [
    "# Optimisation: Dynamic Programming\n",
    "\n",
    "## Rob Cutting Problem\n",
    "\n",
    "Given a rod of length n inches and an array of prices that contains prices of all pieces of size smaller than n. Determine the maximum value obtainable by cutting up the rod and selling the pieces. \n",
    "\n",
    "length: 1  2  3  4  5  6  7  8  9  10  11  \n",
    "price:  1  5  8  9  10 17 17 20 24 30  33\n"
   ]
  },
  {
   "cell_type": "code",
   "execution_count": 1,
   "metadata": {},
   "outputs": [],
   "source": [
    "original_price = [1,5,8,9,10,17,17,20,24,30,33] "
   ]
  },
  {
   "cell_type": "code",
   "execution_count": 2,
   "metadata": {},
   "outputs": [],
   "source": [
    "from collections import defaultdict"
   ]
  },
  {
   "cell_type": "code",
   "execution_count": 3,
   "metadata": {},
   "outputs": [],
   "source": [
    "price = defaultdict(int)"
   ]
  },
  {
   "cell_type": "code",
   "execution_count": 4,
   "metadata": {},
   "outputs": [],
   "source": [
    "for i,p in enumerate(original_price): price[i+1] = p"
   ]
  },
  {
   "cell_type": "code",
   "execution_count": 5,
   "metadata": {},
   "outputs": [
    {
     "data": {
      "text/plain": [
       "defaultdict(int,\n",
       "            {1: 1,\n",
       "             2: 5,\n",
       "             3: 8,\n",
       "             4: 9,\n",
       "             5: 10,\n",
       "             6: 17,\n",
       "             7: 17,\n",
       "             8: 20,\n",
       "             9: 24,\n",
       "             10: 30,\n",
       "             11: 33})"
      ]
     },
     "execution_count": 5,
     "metadata": {},
     "output_type": "execute_result"
    }
   ],
   "source": [
    "price"
   ]
  },
  {
   "cell_type": "code",
   "execution_count": 6,
   "metadata": {},
   "outputs": [],
   "source": [
    "solution = {}\n",
    "\n",
    "def r(n): # the revenue of length n\n",
    "    candidates = []\n",
    "    \n",
    "    for i in range(1,n):\n",
    "        candidates.append((r(i) + r(n-i), i))\n",
    "        \n",
    "    candidates.append((price[n], 0)) \n",
    "    \n",
    "    max_price, split_point = max(candidates, key = lambda x: x[0])\n",
    "    \n",
    "    global solution\n",
    "    solution[n] = (split_point, n-split_point)\n",
    "    \n",
    "    return max_price"
   ]
  },
  {
   "cell_type": "code",
   "execution_count": 7,
   "metadata": {},
   "outputs": [
    {
     "data": {
      "text/plain": [
       "52"
      ]
     },
     "execution_count": 7,
     "metadata": {},
     "output_type": "execute_result"
    }
   ],
   "source": [
    "r(18)"
   ]
  },
  {
   "cell_type": "code",
   "execution_count": 8,
   "metadata": {},
   "outputs": [
    {
     "data": {
      "text/plain": [
       "{1: (0, 1),\n",
       " 2: (0, 2),\n",
       " 3: (0, 3),\n",
       " 4: (2, 2),\n",
       " 5: (2, 3),\n",
       " 6: (0, 6),\n",
       " 7: (1, 6),\n",
       " 8: (2, 6),\n",
       " 9: (3, 6),\n",
       " 10: (0, 10),\n",
       " 11: (0, 11),\n",
       " 12: (2, 10),\n",
       " 13: (2, 11),\n",
       " 14: (3, 11),\n",
       " 15: (2, 13),\n",
       " 16: (6, 10),\n",
       " 17: (6, 11),\n",
       " 18: (2, 16)}"
      ]
     },
     "execution_count": 8,
     "metadata": {},
     "output_type": "execute_result"
    }
   ],
   "source": [
    "solution"
   ]
  },
  {
   "cell_type": "code",
   "execution_count": 9,
   "metadata": {},
   "outputs": [
    {
     "name": "stdout",
     "output_type": "stream",
     "text": [
      "CPU times: user 15.8 ms, sys: 549 µs, total: 16.4 ms\n",
      "Wall time: 16 ms\n"
     ]
    },
    {
     "data": {
      "text/plain": [
       "30"
      ]
     },
     "execution_count": 9,
     "metadata": {},
     "output_type": "execute_result"
    }
   ],
   "source": [
    "%%time\n",
    "r(10)"
   ]
  },
  {
   "cell_type": "code",
   "execution_count": 10,
   "metadata": {},
   "outputs": [
    {
     "name": "stdout",
     "output_type": "stream",
     "text": [
      "CPU times: user 178 ms, sys: 4.27 ms, total: 182 ms\n",
      "Wall time: 181 ms\n"
     ]
    },
    {
     "data": {
      "text/plain": [
       "35"
      ]
     },
     "execution_count": 10,
     "metadata": {},
     "output_type": "execute_result"
    }
   ],
   "source": [
    "%%time\n",
    "r(12)"
   ]
  },
  {
   "cell_type": "code",
   "execution_count": 11,
   "metadata": {},
   "outputs": [
    {
     "name": "stdout",
     "output_type": "stream",
     "text": [
      "CPU times: user 3.48 s, sys: 5.04 ms, total: 3.49 s\n",
      "Wall time: 3.49 s\n"
     ]
    },
    {
     "data": {
      "text/plain": [
       "43"
      ]
     },
     "execution_count": 11,
     "metadata": {},
     "output_type": "execute_result"
    }
   ],
   "source": [
    "%%time\n",
    "r(15)"
   ]
  },
  {
   "cell_type": "markdown",
   "metadata": {},
   "source": [
    "Dynamic Programming is a technique that used to avoid computing multiple times the same subproblem in a recursive algorithm.\n",
    "\n",
    "In Python, we can use Python decorator."
   ]
  },
  {
   "cell_type": "markdown",
   "metadata": {},
   "source": [
    "## Decorator\n",
    "\n",
    "Following is an example of decorator."
   ]
  },
  {
   "cell_type": "code",
   "execution_count": 12,
   "metadata": {},
   "outputs": [],
   "source": [
    "from datetime import datetime"
   ]
  },
  {
   "cell_type": "code",
   "execution_count": 13,
   "metadata": {
    "scrolled": false
   },
   "outputs": [
    {
     "data": {
      "text/plain": [
       "datetime.datetime(2021, 3, 6, 17, 13, 17, 371460)"
      ]
     },
     "execution_count": 13,
     "metadata": {},
     "output_type": "execute_result"
    }
   ],
   "source": [
    "datetime.now()"
   ]
  },
  {
   "cell_type": "code",
   "execution_count": 14,
   "metadata": {},
   "outputs": [],
   "source": [
    "import time"
   ]
  },
  {
   "cell_type": "code",
   "execution_count": 15,
   "metadata": {},
   "outputs": [],
   "source": [
    "def func_1(n):\n",
    "    time.sleep(0.1)\n",
    "    \n",
    "    return n"
   ]
  },
  {
   "cell_type": "code",
   "execution_count": 16,
   "metadata": {},
   "outputs": [],
   "source": [
    "def func_2(n):\n",
    "    sum_ = 0\n",
    "    for i in range(n**n):\n",
    "        sum_ += 1\n",
    "    \n",
    "    return n"
   ]
  },
  {
   "cell_type": "code",
   "execution_count": 17,
   "metadata": {},
   "outputs": [],
   "source": [
    "def get_func_time(func):\n",
    "    def _wrap(n):\n",
    "        begin = datetime.now()\n",
    "        result = func(n)\n",
    "        print('used time = {}'.format(datetime.now() - begin))\n",
    "        \n",
    "        return result\n",
    "    return _wrap"
   ]
  },
  {
   "cell_type": "code",
   "execution_count": 18,
   "metadata": {},
   "outputs": [
    {
     "name": "stdout",
     "output_type": "stream",
     "text": [
      "used time = 0:00:00.103620\n"
     ]
    },
    {
     "data": {
      "text/plain": [
       "9"
      ]
     },
     "execution_count": 18,
     "metadata": {},
     "output_type": "execute_result"
    }
   ],
   "source": [
    "func_1_with_time = get_func_time(func_1)\n",
    "func_1_with_time(9)"
   ]
  },
  {
   "cell_type": "code",
   "execution_count": 19,
   "metadata": {},
   "outputs": [
    {
     "name": "stdout",
     "output_type": "stream",
     "text": [
      "used time = 0:00:00.000009\n"
     ]
    },
    {
     "data": {
      "text/plain": [
       "2"
      ]
     },
     "execution_count": 19,
     "metadata": {},
     "output_type": "execute_result"
    }
   ],
   "source": [
    "func_2_with_time = get_func_time(func_2)\n",
    "func_2_with_time(2)"
   ]
  },
  {
   "cell_type": "markdown",
   "metadata": {},
   "source": [
    "Decorator:  \n",
    "\n",
    "@another_func  \n",
    "def some_func():  \n",
    "    pass\n",
    "    \n",
    "==> some_func = another_func(some_func)\n",
    "\n",
    "In this way, we can control whether the function outputs or does not output the time\n"
   ]
  },
  {
   "cell_type": "code",
   "execution_count": 20,
   "metadata": {},
   "outputs": [],
   "source": [
    "@ get_func_time\n",
    "def func_1(n):\n",
    "    time.sleep(0.1)\n",
    "    \n",
    "    return n"
   ]
  },
  {
   "cell_type": "code",
   "execution_count": 21,
   "metadata": {},
   "outputs": [
    {
     "name": "stdout",
     "output_type": "stream",
     "text": [
      "used time = 0:00:00.103842\n"
     ]
    },
    {
     "data": {
      "text/plain": [
       "2"
      ]
     },
     "execution_count": 21,
     "metadata": {},
     "output_type": "execute_result"
    }
   ],
   "source": [
    "func_1(2)"
   ]
  },
  {
   "cell_type": "code",
   "execution_count": 22,
   "metadata": {},
   "outputs": [],
   "source": [
    "# @ get_func_time\n",
    "def func_1(n):\n",
    "    time.sleep(0.1)\n",
    "    \n",
    "    return n"
   ]
  },
  {
   "cell_type": "code",
   "execution_count": 23,
   "metadata": {},
   "outputs": [
    {
     "data": {
      "text/plain": [
       "2"
      ]
     },
     "execution_count": 23,
     "metadata": {},
     "output_type": "execute_result"
    }
   ],
   "source": [
    "func_1(2)"
   ]
  },
  {
   "cell_type": "markdown",
   "metadata": {},
   "source": [
    "Use decorator to do dynamic programming"
   ]
  },
  {
   "cell_type": "code",
   "execution_count": 24,
   "metadata": {},
   "outputs": [],
   "source": [
    "def memory(func):\n",
    "    cache = {}\n",
    "    def _wrap(n):\n",
    "        if n in cache:\n",
    "            result  = cache[n]\n",
    "        else:\n",
    "            result = func(n)\n",
    "            cache[n] = result\n",
    "                \n",
    "        return result\n",
    "    return _wrap"
   ]
  },
  {
   "cell_type": "code",
   "execution_count": 25,
   "metadata": {},
   "outputs": [],
   "source": [
    "solution = {}\n",
    "\n",
    "@memory\n",
    "def r(n): # the revenue of length n\n",
    "    candidates = []\n",
    "    \n",
    "    for i in range(1,n):\n",
    "        candidates.append((r(i) + r(n-i), i))\n",
    "        \n",
    "    candidates.append((price[n], 0)) \n",
    "    \n",
    "    max_price, split_point = max(candidates, key = lambda x: x[0])\n",
    "    \n",
    "    # max_price, split_point = max([(price[n],0)] + [(r(i)+r(n-i),i) for i in range(1,n)], key = lambda x: x[0])\n",
    "    \n",
    "    global solution\n",
    "    solution[n] = (split_point, n-split_point)\n",
    "    \n",
    "    return max_price"
   ]
  },
  {
   "cell_type": "code",
   "execution_count": 26,
   "metadata": {},
   "outputs": [
    {
     "name": "stdout",
     "output_type": "stream",
     "text": [
      "CPU times: user 45 µs, sys: 0 ns, total: 45 µs\n",
      "Wall time: 47 µs\n"
     ]
    },
    {
     "data": {
      "text/plain": [
       "30"
      ]
     },
     "execution_count": 26,
     "metadata": {},
     "output_type": "execute_result"
    }
   ],
   "source": [
    "%%time\n",
    "r(10) # previously: 22.3ms"
   ]
  },
  {
   "cell_type": "code",
   "execution_count": 27,
   "metadata": {},
   "outputs": [
    {
     "name": "stdout",
     "output_type": "stream",
     "text": [
      "CPU times: user 48 µs, sys: 1 µs, total: 49 µs\n",
      "Wall time: 54.1 µs\n"
     ]
    },
    {
     "data": {
      "text/plain": [
       "35"
      ]
     },
     "execution_count": 27,
     "metadata": {},
     "output_type": "execute_result"
    }
   ],
   "source": [
    "%%time\n",
    "r(12) # previously: 152ms"
   ]
  },
  {
   "cell_type": "code",
   "execution_count": 28,
   "metadata": {},
   "outputs": [
    {
     "name": "stdout",
     "output_type": "stream",
     "text": [
      "CPU times: user 45 µs, sys: 0 ns, total: 45 µs\n",
      "Wall time: 48.9 µs\n"
     ]
    },
    {
     "data": {
      "text/plain": [
       "43"
      ]
     },
     "execution_count": 28,
     "metadata": {},
     "output_type": "execute_result"
    }
   ],
   "source": [
    "%%time\n",
    "r(15) # previously: 3.77s"
   ]
  },
  {
   "cell_type": "code",
   "execution_count": 29,
   "metadata": {},
   "outputs": [
    {
     "name": "stdout",
     "output_type": "stream",
     "text": [
      "CPU times: user 9.26 ms, sys: 413 µs, total: 9.67 ms\n",
      "Wall time: 9.62 ms\n"
     ]
    },
    {
     "data": {
      "text/plain": [
       "465"
      ]
     },
     "execution_count": 29,
     "metadata": {},
     "output_type": "execute_result"
    }
   ],
   "source": [
    "%%time\n",
    "r(155)"
   ]
  },
  {
   "cell_type": "code",
   "execution_count": 30,
   "metadata": {},
   "outputs": [
    {
     "data": {
      "text/plain": [
       "{1: (0, 1),\n",
       " 2: (0, 2),\n",
       " 3: (0, 3),\n",
       " 4: (2, 2),\n",
       " 5: (2, 3),\n",
       " 6: (0, 6),\n",
       " 7: (1, 6),\n",
       " 8: (2, 6),\n",
       " 9: (3, 6),\n",
       " 10: (0, 10),\n",
       " 11: (0, 11),\n",
       " 12: (2, 10),\n",
       " 13: (2, 11),\n",
       " 14: (3, 11),\n",
       " 15: (2, 13),\n",
       " 16: (6, 10),\n",
       " 17: (6, 11),\n",
       " 18: (2, 16),\n",
       " 19: (2, 17),\n",
       " 20: (10, 10),\n",
       " 21: (10, 11),\n",
       " 22: (11, 11),\n",
       " 23: (2, 21),\n",
       " 24: (2, 22),\n",
       " 25: (3, 22),\n",
       " 26: (6, 20),\n",
       " 27: (6, 21),\n",
       " 28: (6, 22),\n",
       " 29: (2, 27),\n",
       " 30: (10, 20),\n",
       " 31: (10, 21),\n",
       " 32: (10, 22),\n",
       " 33: (11, 22),\n",
       " 34: (2, 32),\n",
       " 35: (2, 33),\n",
       " 36: (3, 33),\n",
       " 37: (6, 31),\n",
       " 38: (6, 32),\n",
       " 39: (6, 33),\n",
       " 40: (10, 30),\n",
       " 41: (10, 31),\n",
       " 42: (10, 32),\n",
       " 43: (10, 33),\n",
       " 44: (11, 33),\n",
       " 45: (2, 43),\n",
       " 46: (2, 44),\n",
       " 47: (3, 44),\n",
       " 48: (6, 42),\n",
       " 49: (6, 43),\n",
       " 50: (10, 40),\n",
       " 51: (10, 41),\n",
       " 52: (10, 42),\n",
       " 53: (10, 43),\n",
       " 54: (10, 44),\n",
       " 55: (11, 44),\n",
       " 56: (2, 54),\n",
       " 57: (2, 55),\n",
       " 58: (3, 55),\n",
       " 59: (6, 53),\n",
       " 60: (10, 50),\n",
       " 61: (10, 51),\n",
       " 62: (10, 52),\n",
       " 63: (10, 53),\n",
       " 64: (10, 54),\n",
       " 65: (10, 55),\n",
       " 66: (11, 55),\n",
       " 67: (2, 65),\n",
       " 68: (2, 66),\n",
       " 69: (3, 66),\n",
       " 70: (10, 60),\n",
       " 71: (10, 61),\n",
       " 72: (10, 62),\n",
       " 73: (10, 63),\n",
       " 74: (10, 64),\n",
       " 75: (10, 65),\n",
       " 76: (10, 66),\n",
       " 77: (11, 66),\n",
       " 78: (2, 76),\n",
       " 79: (2, 77),\n",
       " 80: (10, 70),\n",
       " 81: (10, 71),\n",
       " 82: (10, 72),\n",
       " 83: (10, 73),\n",
       " 84: (10, 74),\n",
       " 85: (10, 75),\n",
       " 86: (10, 76),\n",
       " 87: (10, 77),\n",
       " 88: (11, 77),\n",
       " 89: (2, 87),\n",
       " 90: (10, 80),\n",
       " 91: (10, 81),\n",
       " 92: (10, 82),\n",
       " 93: (10, 83),\n",
       " 94: (10, 84),\n",
       " 95: (10, 85),\n",
       " 96: (10, 86),\n",
       " 97: (10, 87),\n",
       " 98: (10, 88),\n",
       " 99: (11, 88),\n",
       " 100: (10, 90),\n",
       " 101: (10, 91),\n",
       " 102: (10, 92),\n",
       " 103: (10, 93),\n",
       " 104: (10, 94),\n",
       " 105: (10, 95),\n",
       " 106: (10, 96),\n",
       " 107: (10, 97),\n",
       " 108: (10, 98),\n",
       " 109: (10, 99),\n",
       " 110: (10, 100),\n",
       " 111: (10, 101),\n",
       " 112: (10, 102),\n",
       " 113: (10, 103),\n",
       " 114: (10, 104),\n",
       " 115: (10, 105),\n",
       " 116: (10, 106),\n",
       " 117: (10, 107),\n",
       " 118: (10, 108),\n",
       " 119: (10, 109),\n",
       " 120: (10, 110),\n",
       " 121: (10, 111),\n",
       " 122: (10, 112),\n",
       " 123: (10, 113),\n",
       " 124: (10, 114),\n",
       " 125: (10, 115),\n",
       " 126: (10, 116),\n",
       " 127: (10, 117),\n",
       " 128: (10, 118),\n",
       " 129: (10, 119),\n",
       " 130: (10, 120),\n",
       " 131: (10, 121),\n",
       " 132: (10, 122),\n",
       " 133: (10, 123),\n",
       " 134: (10, 124),\n",
       " 135: (10, 125),\n",
       " 136: (10, 126),\n",
       " 137: (10, 127),\n",
       " 138: (10, 128),\n",
       " 139: (10, 129),\n",
       " 140: (10, 130),\n",
       " 141: (10, 131),\n",
       " 142: (10, 132),\n",
       " 143: (10, 133),\n",
       " 144: (10, 134),\n",
       " 145: (10, 135),\n",
       " 146: (10, 136),\n",
       " 147: (10, 137),\n",
       " 148: (10, 138),\n",
       " 149: (10, 139),\n",
       " 150: (10, 140),\n",
       " 151: (10, 141),\n",
       " 152: (10, 142),\n",
       " 153: (10, 143),\n",
       " 154: (10, 144),\n",
       " 155: (10, 145)}"
      ]
     },
     "execution_count": 30,
     "metadata": {},
     "output_type": "execute_result"
    }
   ],
   "source": [
    "solution"
   ]
  },
  {
   "cell_type": "code",
   "execution_count": 31,
   "metadata": {},
   "outputs": [],
   "source": [
    "def not_cut(n):\n",
    "    return n==0"
   ]
  },
  {
   "cell_type": "code",
   "execution_count": 32,
   "metadata": {},
   "outputs": [],
   "source": [
    "def parse_solution(target_length, revenue_solution):\n",
    "    left,right = revenue_solution[target_length]\n",
    "    \n",
    "    if not_cut(left): \n",
    "        return[right]\n",
    "    \n",
    "    return parse_solution(left, revenue_solution) + parse_solution(right, revenue_solution) "
   ]
  },
  {
   "cell_type": "code",
   "execution_count": 33,
   "metadata": {},
   "outputs": [
    {
     "data": {
      "text/plain": [
       "[10, 10, 10, 10, 10, 10, 10, 10, 10, 10, 11, 11, 11, 11, 11]"
      ]
     },
     "execution_count": 33,
     "metadata": {},
     "output_type": "execute_result"
    }
   ],
   "source": [
    "parse_solution(155, solution)"
   ]
  }
 ],
 "metadata": {
  "kernelspec": {
   "display_name": "Python 3",
   "language": "python",
   "name": "python3"
  },
  "language_info": {
   "codemirror_mode": {
    "name": "ipython",
    "version": 3
   },
   "file_extension": ".py",
   "mimetype": "text/x-python",
   "name": "python",
   "nbconvert_exporter": "python",
   "pygments_lexer": "ipython3",
   "version": "3.8.5"
  }
 },
 "nbformat": 4,
 "nbformat_minor": 4
}
